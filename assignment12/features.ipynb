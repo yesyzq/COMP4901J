{
 "cells": [
  {
   "cell_type": "markdown",
   "metadata": {},
   "source": [
    "# Image features exercise\n",
    "*Complete and hand in this completed worksheet (including its outputs and any supporting code outside of the worksheet) with your assignment submission. For more details see the [assignments page](http://vision.stanford.edu/teaching/cs231n/assignments.html) on the course website.*\n",
    "\n",
    "We have seen that we can achieve reasonable performance on an image classification task by training a linear classifier on the pixels of the input image. In this exercise we will show that we can improve our classification performance by training linear classifiers not on raw pixels but on features that are computed from the raw pixels.\n",
    "\n",
    "All of your work for this exercise will be done in this notebook."
   ]
  },
  {
   "cell_type": "code",
   "execution_count": 1,
   "metadata": {
    "collapsed": false
   },
   "outputs": [],
   "source": [
    "import random\n",
    "import numpy as np\n",
    "from cs231n.data_utils import load_CIFAR10\n",
    "import matplotlib.pyplot as plt\n",
    "\n",
    "from __future__ import print_function\n",
    "\n",
    "%matplotlib inline\n",
    "plt.rcParams['figure.figsize'] = (10.0, 8.0) # set default size of plots\n",
    "plt.rcParams['image.interpolation'] = 'nearest'\n",
    "plt.rcParams['image.cmap'] = 'gray'\n",
    "\n",
    "# for auto-reloading extenrnal modules\n",
    "# see http://stackoverflow.com/questions/1907993/autoreload-of-modules-in-ipython\n",
    "%load_ext autoreload\n",
    "%autoreload 2"
   ]
  },
  {
   "cell_type": "markdown",
   "metadata": {},
   "source": [
    "## Load data\n",
    "Similar to previous exercises, we will load CIFAR-10 data from disk."
   ]
  },
  {
   "cell_type": "code",
   "execution_count": 2,
   "metadata": {
    "collapsed": false
   },
   "outputs": [],
   "source": [
    "from cs231n.features import color_histogram_hsv, hog_feature\n",
    "\n",
    "def get_CIFAR10_data(num_training=49000, num_validation=1000, num_test=1000):\n",
    "    # Load the raw CIFAR-10 data\n",
    "    cifar10_dir = 'cs231n/datasets/cifar-10-batches-py'\n",
    "    X_train, y_train, X_test, y_test = load_CIFAR10(cifar10_dir)\n",
    "    \n",
    "    # Subsample the data\n",
    "    mask = list(range(num_training, num_training + num_validation))\n",
    "    X_val = X_train[mask]\n",
    "    y_val = y_train[mask]\n",
    "    mask = list(range(num_training))\n",
    "    X_train = X_train[mask]\n",
    "    y_train = y_train[mask]\n",
    "    mask = list(range(num_test))\n",
    "    X_test = X_test[mask]\n",
    "    y_test = y_test[mask]\n",
    "    \n",
    "    return X_train, y_train, X_val, y_val, X_test, y_test\n",
    "\n",
    "X_train, y_train, X_val, y_val, X_test, y_test = get_CIFAR10_data()"
   ]
  },
  {
   "cell_type": "markdown",
   "metadata": {},
   "source": [
    "## Extract Features\n",
    "For each image we will compute a Histogram of Oriented\n",
    "Gradients (HOG) as well as a color histogram using the hue channel in HSV\n",
    "color space. We form our final feature vector for each image by concatenating\n",
    "the HOG and color histogram feature vectors.\n",
    "\n",
    "Roughly speaking, HOG should capture the texture of the image while ignoring\n",
    "color information, and the color histogram represents the color of the input\n",
    "image while ignoring texture. As a result, we expect that using both together\n",
    "ought to work better than using either alone. Verifying this assumption would\n",
    "be a good thing to try for the bonus section.\n",
    "\n",
    "The `hog_feature` and `color_histogram_hsv` functions both operate on a single\n",
    "image and return a feature vector for that image. The extract_features\n",
    "function takes a set of images and a list of feature functions and evaluates\n",
    "each feature function on each image, storing the results in a matrix where\n",
    "each column is the concatenation of all feature vectors for a single image."
   ]
  },
  {
   "cell_type": "code",
   "execution_count": 11,
   "metadata": {
    "collapsed": false
   },
   "outputs": [],
   "source": [
    "from cs231n.classifiers.neural_net import TwoLayerNet\n",
    "from cs231n.features import *\n",
    "\n",
    "for k in range(20,20):\n",
    "    sys.stdout.write(\"========= computer k: %s ===========\\n\" % k)\n",
    "    sample = np.random.choice(49000, 30000)\n",
    "    codebook = compute_codebook(X_train[sample], k, True) # compute codebook\n",
    "    \n",
    "    feature_fns = [lambda img: hist_from_codebook(img, codebook, k)]\n",
    "    X_train_feats = extract_features(X_train, feature_fns, verbose=True)\n",
    "    X_val_feats = extract_features(X_val, feature_fns)\n",
    "\n",
    "    #print(X_train_feats[0], mean_feat[0])\n",
    "    X_train_feats = X_train_feats.astype(float)\n",
    "    X_val_feats = X_val_feats.astype(float)\n",
    "    \n",
    "    mean_feat = np.mean(X_train_feats, axis=0, keepdims=True)\n",
    "    X_train_feats -= mean_feat\n",
    "    X_val_feats -= mean_feat\n",
    "\n",
    "    std_feat = np.std(X_train_feats, axis=0,keepdims=True)\n",
    "    X_train_feats /= std_feat\n",
    "    X_val_feats /= std_feat\n",
    "\n",
    "    X_train_feats = np.hstack([X_train_feats, np.ones((X_train_feats.shape[0], 1))])\n",
    "    X_val_feats = np.hstack([X_val_feats, np.ones((X_val_feats.shape[0], 1))])\n",
    "    \n",
    "\n",
    "    input_dim = X_train_feats.shape[1]\n",
    "    num_classes = 10\n",
    "\n",
    "    learning_rate_decay = 0.95\n",
    "    num_iters = 100\n",
    "    learning_rates, regularization_strengths, batch_sizes, hidden_dims = [1.5], [0.0005], [500], [500] #0.625\n",
    "\n",
    "    best_net = None\n",
    "    best_acc = 0.0\n",
    "\n",
    "    count = 0\n",
    "    for reg in regularization_strengths:\n",
    "        for lr in learning_rates:\n",
    "            for hd in hidden_dims:\n",
    "                for bs in batch_sizes:\n",
    "                    # Train the network\n",
    "                    net = TwoLayerNet(input_dim, hd, num_classes)\n",
    "                    stats = net.train(X_train_feats, y_train, X_val_feats, y_val, lr, learning_rate_decay, reg, num_iters, bs, verbose=True)\n",
    "                    # Predict on the validation set\n",
    "                    val_acc = (net.predict(X_val_feats) == y_val).mean()\n",
    "                    if (val_acc > best_acc):\n",
    "                        best_net = net\n",
    "                        best_acc = val_acc\n",
    "                        print(\"lr: \", lr , \" reg: \" ,reg , \" bs: \", bs ,\"hs: \", hd,\" acc: \",val_acc)"
   ]
  },
  {
   "cell_type": "code",
   "execution_count": 6,
   "metadata": {
    "collapsed": false
   },
   "outputs": [
    {
     "data": {
      "image/png": "[encoded data removed]",
      "text/plain": [
       "<matplotlib.figure.Figure at 0x10c388f90>"
      ]
     },
     "metadata": {},
     "output_type": "display_data"
    }
   ],
   "source": [
    "import matplotlib.pyplot as plt\n",
    "%matplotlib inline\n",
    "\n",
    "x = [i for i in range(3, 12)]\n",
    "y = [0.198, 0.187, 0.204,0.21 ,0.214,0.249,0.251 ,0.281, 0.252]\n",
    "\n",
    "plt.xlabel('k_bag_of_words')\n",
    "plt.ylabel('accuracy')\n",
    "plt.plot(x, y)\n",
    "plt.show()"
   ]
  }
 ],
 "metadata": {
  "kernelspec": {
   "display_name": "Python 2",
   "language": "python",
   "name": "python2"
  },
  "language_info": {
   "codemirror_mode": {
    "name": "ipython",
    "version": 2
   },
   "file_extension": ".py",
   "mimetype": "text/x-python",
   "name": "python",
   "nbconvert_exporter": "python",
   "pygments_lexer": "ipython2",
   "version": "2.7.13"
  }
 },
 "nbformat": 4,
 "nbformat_minor": 1
}
