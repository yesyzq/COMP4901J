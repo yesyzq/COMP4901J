{
 "cells": [
  {
   "cell_type": "markdown",
   "metadata": {},
   "source": [
    "# Basic Q-Learning Algorithms\n",
    "In this exercise we are going be exploring a family of RL algorithms called Q-Learning algorithms. You will begin by implementing a simple lookup-table version of the algorithm, and then a neural-network equivalent using Tensorflow."
   ]
  },
  {
   "cell_type": "code",
   "execution_count": 1,
   "metadata": {
    "collapsed": true
   },
   "outputs": [],
   "source": [
    "import numpy as np\n",
    "import random\n",
    "import matplotlib.pyplot as plt\n",
    "%matplotlib inline"
   ]
  },
  {
   "cell_type": "markdown",
   "metadata": {},
   "source": [
    "## OpenAI Gym Environment\n",
    "For this exercise we will use the [FrozenLake](https://gym.openai.com/envs/FrozenLake-v0) environment from the [OpenAI gym](https://gym.openai.com) as a toy example. For those unfamiliar, the OpenAI gym provides an easy way for people to experiment with their learning agents in an array of provided toy games. The FrozenLake environment consists of a `4 x 4` grid of blocks, each one either being the start block `S`, the goal block `G`, a safe frozen block `F`, or a dangerous hole `H`. The objective is to have an agent learn to navigate from the start to the goal without moving onto a hole. At any given time the agent can choose to move either up, down, left, or right. The catch is that there is a wind which occasionally blows the agent onto a space they didn’t choose. As such, perfect performance every time is impossible, but learning to avoid the holes and reach the goal are certainly still doable. The reward at every step is 0, except for entering the goal, which provides a reward of 1. Thus, we will need an algorithm that learns long-term expected rewards. This is exactly what Q-Learning is designed to provide."
   ]
  },
  {
   "cell_type": "markdown",
   "metadata": {},
   "source": [
    "## Install OpenAI Gym\n",
    "To install the OpenAI gym, simply use  `pip install gym`  to grab it."
   ]
  },
  {
   "cell_type": "markdown",
   "metadata": {},
   "source": [
    "## Load the environment"
   ]
  },
  {
   "cell_type": "code",
   "execution_count": 2,
   "metadata": {
    "collapsed": true,
    "scrolled": false
   },
   "outputs": [],
   "source": [
    "import gym\n",
    "env = gym.make('FrozenLake-v0')"
   ]
  },
  {
   "cell_type": "markdown",
   "metadata": {},
   "source": [
    "For more information, please refer to [OpenAI documentation](https://gym.openai.com/docs)"
   ]
  },
  {
   "cell_type": "markdown",
   "metadata": {},
   "source": [
    "## Part 1 - Q-Table learning algorithm\n",
    "In it’s simplest implementation, Q-Learning is a table of values for every state (row) and action (column) possible in the environment. Within each cell of the table, we learn a value for how good it is to take a given action within a given state. In the case of the FrozenLake environment, we have 16 possible states (one for each block), and 4 possible actions (the four directions of movement), giving us a 16 x 4 table of Q-values. We start by initializing the table to be uniform (all zeros), and then as we observe the rewards we obtain for various actions, we update the table accordingly.\n",
    "\n",
    "We make updates to our Q-table using something called the [Bellman equation](https://en.wikipedia.org/wiki/Bellman_equation), which states that the expected long-term reward for a given action is equal to the immediate reward from the current action combined with the expected reward from the best future action taken at the following state. In equation form, the rule looks like this (Equation 1):\n",
    "$$ Q(s,a) = r + γ(\\max(Q(s’,a’)) $$"
   ]
  },
  {
   "cell_type": "markdown",
   "metadata": {},
   "source": [
    "This says that the Q-value for a given state ($s$) and action ($a$) should represent the current reward ($r$) plus the maximum discounted ($\\lambda$) future reward expected according to our own table for the next state ($s'$) we would end up in."
   ]
  },
  {
   "cell_type": "code",
   "execution_count": 3,
   "metadata": {
    "collapsed": true,
    "scrolled": true
   },
   "outputs": [],
   "source": [
    "#Initialize table, with states as rows and actions (up, down, left, or right) as columns \n",
    "Q = np.zeros([env.observation_space.n,env.action_space.n])\n",
    "#Set learning parameters\n",
    "lr = .8\n",
    "#Set discounted factor\n",
    "y = .95\n",
    "num_episodes = 2000\n",
    "num_steps = 99\n",
    "#create lists to contain total rewards and steps per episode\n",
    "rList = []\n",
    "for i in range(num_episodes):\n",
    "    #Reset environment and get first new observation\n",
    "    s = env.reset()\n",
    "    #Total reward in one episode\n",
    "    rAll = 0\n",
    "    for _ in range(num_steps):\n",
    "        ###############################################################################\n",
    "        # TODO: Implement the Q-Table learning algorithm.                             #\n",
    "        # You will need to do the following:                                          #\n",
    "        # (1) Choose an action by greedily (with noise) picking from Q table given s  #\n",
    "        #     as input.                                                               #\n",
    "        # (2) Get new state s1, reward r and done d from environment                  #\n",
    "        # (3) Update Q-Table with new knowledge.                                      #\n",
    "        # (4) Cumulate the total reward rAll                                          #\n",
    "        # (5) Update s                                                                #\n",
    "        # Note: You may use the gym interfaces env.action_space, env.step etc.        #\n",
    "        #       E.g. observation, reward, done, info = env.step(action)               #\n",
    "        #       Please refer to the docs for more information.                        #\n",
    "        #       For (1), consider adding noise as a mean of encouraging exploration.  #\n",
    "        #       For (3), calculate the new target Q-value using Bellman equation.     #\n",
    "        #       Instead of directly updating toward it, we take a small step in the   #\n",
    "        #       direction that will make the Q value closer to the target, i.e. use   #\n",
    "        #       learning rate that controls how much of the difference between        #\n",
    "        #       newly proposed Q-value and previous Q-value                           #\n",
    "        ###############################################################################\n",
    "        # Set noise level\n",
    "        noiseLevel = 1. / (i + 1)\n",
    "        action = np.argmax(Q[s,:] + np.random.randn(1, env.action_space.n) * noiseLevel)\n",
    "        s1, r, d, _ = env.step(action)\n",
    "        Qnew = r + y * np.max(Q[s1, :])\n",
    "        Q[s, action] += lr * (Qnew - Q[s, action])\n",
    "        rAll += r\n",
    "        s = s1\n",
    "        ##############################################################################\n",
    "        #                             END OF YOUR CODE                               #\n",
    "        ##############################################################################\n",
    "        \n",
    "        #end of one episode\n",
    "        if d == True:\n",
    "            break\n",
    "    rList.append(rAll)"
   ]
  },
  {
   "cell_type": "markdown",
   "metadata": {},
   "source": [
    "The score is around 0.5 after 2000 episodes."
   ]
  },
  {
   "cell_type": "code",
   "execution_count": 4,
   "metadata": {
    "scrolled": true
   },
   "outputs": [
    {
     "name": "stdout",
     "output_type": "stream",
     "text": [
      "Score over time: 0.551\n"
     ]
    }
   ],
   "source": [
    "print(\"Score over time: \" +  str(sum(rList)/num_episodes))"
   ]
  },
  {
   "cell_type": "code",
   "execution_count": 5,
   "metadata": {},
   "outputs": [
    {
     "name": "stdout",
     "output_type": "stream",
     "text": [
      "Final Q-Table Values\n",
      "[[  2.54500837e-01   1.56685948e-02   1.35470578e-02   1.59776754e-02]\n",
      " [  2.97361849e-06   7.84742549e-04   6.46941535e-04   1.98560625e-01]\n",
      " [  2.86986112e-01   2.83598331e-03   4.20746221e-03   5.95769994e-03]\n",
      " [  7.46657075e-04   7.14058618e-04   9.81427589e-05   4.14302309e-03]\n",
      " [  3.27934966e-01   4.06093024e-03   2.55558040e-03   9.27906208e-03]\n",
      " [  0.00000000e+00   0.00000000e+00   0.00000000e+00   0.00000000e+00]\n",
      " [  1.12254129e-04   2.26488813e-05   3.97510335e-02   3.43319212e-04]\n",
      " [  0.00000000e+00   0.00000000e+00   0.00000000e+00   0.00000000e+00]\n",
      " [  1.24545088e-03   1.36189969e-03   1.87502352e-03   2.90567381e-01]\n",
      " [  0.00000000e+00   1.52902281e-01   0.00000000e+00   7.14486579e-03]\n",
      " [  1.70740075e-01   1.04154952e-03   1.35600870e-03   0.00000000e+00]\n",
      " [  0.00000000e+00   0.00000000e+00   0.00000000e+00   0.00000000e+00]\n",
      " [  0.00000000e+00   0.00000000e+00   0.00000000e+00   0.00000000e+00]\n",
      " [  0.00000000e+00   0.00000000e+00   6.07106349e-01   7.23156889e-03]\n",
      " [  0.00000000e+00   0.00000000e+00   8.42754872e-01   0.00000000e+00]\n",
      " [  0.00000000e+00   0.00000000e+00   0.00000000e+00   0.00000000e+00]]\n"
     ]
    }
   ],
   "source": [
    "print(\"Final Q-Table Values\")\n",
    "print(Q)"
   ]
  },
  {
   "cell_type": "code",
   "execution_count": 6,
   "metadata": {},
   "outputs": [
    {
     "name": "stdout",
     "output_type": "stream",
     "text": [
      "  (Right)\n",
      "SFFF\n",
      "FHFH\n",
      "FFFH\n",
      "HFF\u001b[41mG\u001b[0m\n"
     ]
    }
   ],
   "source": [
    "# print out the 4 x 4 grid and the current position of the agent\n",
    "env.render()"
   ]
  },
  {
   "cell_type": "markdown",
   "metadata": {},
   "source": [
    "## Inline Question 1:\n",
    "In TODO(3), why not directly apply the Bellman equation for updating the Q value? (in this case lr = 1 and why?)\n",
    "\n",
    "**Your answer:** *Fill this in*"
   ]
  },
  {
   "cell_type": "markdown",
   "metadata": {},
   "source": [
    "## Inline Question 2:\n",
    "An optimal Q table will tell you the true expected discounted reward for any action given any state. If you find the maximum value of the learned table is not what you believe it should be, do you think it still make sense? Explain briefly.**\n",
    "\n",
    "**Your answer:** *Fill this in*"
   ]
  },
  {
   "cell_type": "markdown",
   "metadata": {
    "collapsed": true
   },
   "source": [
    "## Part 2 - Q-Network Approach\n",
    "While it is easy to have a 16x4 table for a simple grid world, the number of possible states in any modern game or real-world environment is nearly infinitely larger. For most interesting problems, tables simply don’t work. We instead need some way to take a description of our state, and produce Q-values for actions without a table: that is where neural networks come in. By acting as a function approximator, we can take any number of possible states that can be represented as a vector and learn to map them to Q-values."
   ]
  },
  {
   "cell_type": "markdown",
   "metadata": {},
   "source": [
    "In the case of the FrozenLake example, we will be using a one-layer network which takes the state encoded in a one-hot vector `(1x16)`, and produces a vector of 4 Q-values, one for each action. Such a simple network acts kind of like a glorified table, with the network weights serving as the old cells. The key difference is that we can easily expand the Tensorflow network with added layers, activation functions, and different input types, whereas all that is impossible with a regular table. The method of updating is a little different as well. Instead of directly updating our table, with a network we will be using backpropagation and a loss function. Our loss function will be sum-of-squares loss, where the difference between the current predicted Q-values, and the “target” value is computed and the gradients passed through the network. **In this case, our Q-target value for the chosen action is the equivalent to the Q-value computed in equation 1 above.**"
   ]
  },
  {
   "cell_type": "markdown",
   "metadata": {},
   "source": [
    "### Implementing the network itself"
   ]
  },
  {
   "cell_type": "code",
   "outputs": [],
   "execution_count": 3,
   "metadata": {},
   "source": [
    "import tensorflow as tf\n",
    "env = gym.make('FrozenLake-v0')\n",
    "tf.reset_default_graph()"
   ]
  },
  {
   "cell_type": "code",
   "execution_count": 4,
   "metadata": {
    "collapsed": true
   },
   "outputs": [],
   "source": [
    "#These lines establish the feed-forward part of the network used to choose actions\n",
    "inputs1 = tf.placeholder(shape=[1,16],dtype=tf.float32)\n",
    "W = tf.Variable(tf.random_uniform([16,4],0,0.01))\n",
    "Qout = tf.matmul(inputs1,W)\n",
    "predict = tf.argmax(Qout,1)\n",
    "\n",
    "#Below we obtain the loss by taking the sum of squares difference between the target and prediction Q values.\n",
    "nextQ = tf.placeholder(shape=[1,4],dtype=tf.float32)\n",
    "loss = tf.reduce_sum(tf.square(nextQ - Qout))\n",
    "trainer = tf.train.GradientDescentOptimizer(learning_rate=0.1)\n",
    "updateModel = trainer.minimize(loss)"
   ]
  },
  {
   "cell_type": "markdown",
   "metadata": {},
   "source": [
    "### Training the network"
   ]
  },
  {
   "cell_type": "code",
   "execution_count": 5,
   "metadata": {},
   "outputs": [
    {
     "name": "stdout",
     "output_type": "stream",
     "text": [
      "Episode 9 reward: 0.0\n",
      "Episode 19 reward: 0.0\n",
      "Episode 29 reward: 0.0\n",
      "Episode 39 reward: 0.0\n",
      "Episode 49 reward: 0.0\n",
      "Episode 59 reward: 0.0\n",
      "Episode 69 reward: 0.0\n",
      "Episode 79 reward: 0.1\n",
      "Episode 89 reward: 0.1\n",
      "Episode 99 reward: 0.0\n",
      "Episode 109 reward: 0.1\n",
      "Episode 119 reward: 0.0\n",
      "Episode 129 reward: 0.0\n",
      "Episode 139 reward: 0.0\n",
      "Episode 149 reward: 0.0\n",
      "Episode 159 reward: 0.1\n",
      "Episode 169 reward: 0.0\n",
      "Episode 179 reward: 0.0\n",
      "Episode 189 reward: 0.0\n",
      "Episode 199 reward: 0.0\n",
      "Episode 209 reward: 0.0\n",
      "Episode 219 reward: 0.0\n",
      "Episode 229 reward: 0.1\n",
      "Episode 239 reward: 0.0\n",
      "Episode 249 reward: 0.1\n",
      "Episode 259 reward: 0.0\n",
      "Episode 269 reward: 0.0\n",
      "Episode 279 reward: 0.0\n",
      "Episode 289 reward: 0.1\n",
      "Episode 299 reward: 0.0\n",
      "Episode 309 reward: 0.1\n",
      "Episode 319 reward: 0.0\n",
      "Episode 329 reward: 0.1\n",
      "Episode 339 reward: 0.0\n",
      "Episode 349 reward: 0.0\n",
      "Episode 359 reward: 0.0\n",
      "Episode 369 reward: 0.1\n",
      "Episode 379 reward: 0.0\n",
      "Episode 389 reward: 0.0\n",
      "Episode 399 reward: 0.0\n",
      "Episode 409 reward: 0.0\n",
      "Episode 419 reward: 0.0\n",
      "Episode 429 reward: 0.2\n",
      "Episode 439 reward: 0.0\n",
      "Episode 449 reward: 0.1\n",
      "Episode 459 reward: 0.1\n",
      "Episode 469 reward: 0.0\n",
      "Episode 479 reward: 0.0\n",
      "Episode 489 reward: 0.2\n",
      "Episode 499 reward: 0.4\n",
      "Episode 509 reward: 0.3\n",
      "Episode 519 reward: 0.8\n",
      "Episode 530 reward: 0.3\n",
      "Episode 540 reward: 0.4\n",
      "Episode 550 reward: 0.6\n",
      "Episode 560 reward: 0.5\n",
      "Episode 571 reward: 0.6\n",
      "Episode 581 reward: 0.5\n",
      "Episode 591 reward: 0.5\n",
      "Episode 602 reward: 0.5\n",
      "Episode 612 reward: 0.9\n",
      "Episode 622 reward: 0.8\n",
      "Episode 632 reward: 0.9\n",
      "Episode 642 reward: 0.4\n",
      "Episode 652 reward: 0.7\n",
      "Episode 662 reward: 0.3\n",
      "Episode 672 reward: 0.7\n",
      "Episode 683 reward: 0.5\n",
      "Episode 693 reward: 0.5\n",
      "Episode 703 reward: 0.7\n",
      "Episode 713 reward: 0.2\n",
      "Episode 723 reward: 0.6\n",
      "Episode 733 reward: 0.5\n",
      "Episode 743 reward: 0.5\n",
      "Episode 753 reward: 0.6\n",
      "Episode 763 reward: 0.5\n",
      "Episode 773 reward: 0.6\n",
      "Episode 784 reward: 0.5\n",
      "Episode 794 reward: 0.2\n",
      "Episode 804 reward: 0.5\n",
      "Episode 815 reward: 0.6\n",
      "Episode 816 reward: 0.6\n",
      "Episode 826 reward: 0.7\n",
      "Episode 837 reward: 0.4\n",
      "Episode 847 reward: 0.5\n",
      "Episode 857 reward: 0.5\n",
      "Episode 868 reward: 0.5\n",
      "Episode 879 reward: 0.7\n",
      "Episode 889 reward: 0.4\n",
      "Episode 899 reward: 0.4\n",
      "Episode 909 reward: 0.7\n",
      "Episode 920 reward: 0.7\n",
      "Episode 930 reward: 0.8\n",
      "Episode 940 reward: 0.5\n",
      "Episode 951 reward: 0.7\n",
      "Episode 961 reward: 0.9\n",
      "Episode 973 reward: 0.6\n",
      "Episode 983 reward: 0.6\n",
      "Episode 993 reward: 0.6\n",
      "Episode 1003 reward: 0.7\n",
      "Episode 1013 reward: 0.6\n",
      "Episode 1023 reward: 0.8\n",
      "Episode 1033 reward: 0.9\n",
      "Episode 1043 reward: 0.6\n",
      "Episode 1053 reward: 0.4\n",
      "Episode 1064 reward: 0.9\n",
      "Episode 1075 reward: 0.7\n",
      "Episode 1076 reward: 0.7\n",
      "Episode 1086 reward: 0.5\n",
      "Episode 1096 reward: 0.7\n",
      "Episode 1107 reward: 0.6\n",
      "Episode 1117 reward: 0.7\n",
      "Episode 1128 reward: 0.5\n",
      "Episode 1139 reward: 0.5\n",
      "Episode 1150 reward: 0.5\n",
      "Episode 1160 reward: 0.8\n",
      "Episode 1170 reward: 0.6\n",
      "Episode 1180 reward: 0.7\n",
      "Episode 1190 reward: 0.7\n",
      "Episode 1200 reward: 0.8\n",
      "Episode 1211 reward: 0.6\n",
      "Episode 1222 reward: 0.7\n",
      "Episode 1232 reward: 0.5\n",
      "Episode 1244 reward: 0.5\n",
      "Episode 1254 reward: 0.5\n",
      "Episode 1264 reward: 0.6\n",
      "Episode 1265 reward: 0.6\n",
      "Episode 1276 reward: 0.4\n",
      "Episode 1286 reward: 0.7\n",
      "Episode 1297 reward: 0.4\n",
      "Episode 1308 reward: 0.4\n",
      "Episode 1320 reward: 0.6\n",
      "Episode 1330 reward: 0.6\n",
      "Episode 1340 reward: 0.5\n",
      "Episode 1350 reward: 0.8\n",
      "Episode 1361 reward: 0.7\n",
      "Episode 1371 reward: 0.5\n",
      "Episode 1382 reward: 0.5\n",
      "Episode 1392 reward: 0.4\n",
      "Episode 1403 reward: 0.7\n",
      "Episode 1413 reward: 0.8\n",
      "Episode 1423 reward: 0.7\n",
      "Episode 1434 reward: 0.9\n",
      "Episode 1446 reward: 0.3\n",
      "Episode 1456 reward: 0.5\n",
      "Episode 1466 reward: 0.4\n",
      "Episode 1476 reward: 0.6\n",
      "Episode 1486 reward: 0.4\n",
      "Episode 1497 reward: 0.6\n",
      "Episode 1507 reward: 0.4\n",
      "Episode 1517 reward: 0.6\n",
      "Episode 1527 reward: 0.6\n",
      "Episode 1537 reward: 0.6\n",
      "Episode 1547 reward: 0.5\n",
      "Episode 1557 reward: 0.7\n",
      "Episode 1567 reward: 0.8\n",
      "Episode 1577 reward: 0.7\n",
      "Episode 1588 reward: 0.5\n",
      "Episode 1598 reward: 0.7\n",
      "Episode 1608 reward: 0.7\n",
      "Episode 1618 reward: 0.6\n",
      "Episode 1628 reward: 0.8\n",
      "Episode 1639 reward: 0.6\n",
      "Episode 1649 reward: 0.5\n",
      "Episode 1659 reward: 0.3\n",
      "Episode 1669 reward: 0.8\n",
      "Episode 1679 reward: 0.5\n",
      "Episode 1690 reward: 0.7\n",
      "Episode 1691 reward: 0.7\n",
      "Episode 1701 reward: 0.6\n",
      "Episode 1711 reward: 0.4\n",
      "Episode 1722 reward: 0.6\n",
      "Episode 1732 reward: 0.5\n",
      "Episode 1742 reward: 0.6\n",
      "Episode 1752 reward: 0.8\n",
      "Episode 1762 reward: 0.6\n",
      "Episode 1772 reward: 0.6\n",
      "Episode 1783 reward: 0.5\n",
      "Episode 1793 reward: 0.2\n",
      "Episode 1803 reward: 0.7\n",
      "Episode 1813 reward: 0.5\n",
      "Episode 1823 reward: 0.7\n",
      "Episode 1834 reward: 0.8\n",
      "Episode 1844 reward: 0.7\n",
      "Episode 1854 reward: 0.7\n",
      "Episode 1865 reward: 0.7\n",
      "Episode 1875 reward: 0.4\n",
      "Episode 1885 reward: 0.8\n",
      "Episode 1895 reward: 0.6\n",
      "Episode 1905 reward: 0.8\n",
      "Episode 1915 reward: 0.6\n",
      "Episode 1925 reward: 0.6\n",
      "Episode 1935 reward: 0.6\n",
      "Episode 1945 reward: 0.3\n",
      "Episode 1956 reward: 0.1\n",
      "Episode 1966 reward: 0.2\n",
      "Episode 1976 reward: 0.4\n",
      "Episode 1986 reward: 0.4\n",
      "Episode 1996 reward: 0.5\n",
      "Percent of succesful episodes: 0.4305%\n"
     ]
    }
   ],
   "source": [
    "init = tf.global_variables_initializer()\n",
    "\n",
    "# Set learning parameters\n",
    "#discounted factor\n",
    "y = .99\n",
    "e = 0.1\n",
    "num_episodes = 2000\n",
    "num_steps = 99\n",
    "#create lists to contain total rewards and steps per episode\n",
    "jList = []\n",
    "rList = []\n",
    "with tf.Session() as sess:\n",
    "    sess.run(init)\n",
    "    for i in range(num_episodes):\n",
    "        #chance of random action\n",
    "        e = 1. / ((i / 50) + 10)\n",
    "        #Reset environment and get first new observation\n",
    "        s = env.reset()\n",
    "        #Total reward in one episode\n",
    "        rAll = 0\n",
    "        #The Q-Network\n",
    "        for j in range(num_steps):\n",
    "            ###############################################################################\n",
    "            # TODO: Implement the Q-network approach.                                     #\n",
    "            # You will need to do the following:                                          #\n",
    "            # (1) Choose an action by greedily (with e chance of random action, e=0.1)    # \n",
    "            #     from the Q-network                                                      #\n",
    "            # (2) Get new state s1, reward r and done d from environment                  #\n",
    "            # (3) Obtain the Q' values by feeding the new state through our network       # \n",
    "            # (4) Obtain maxQ' and set our target value for chosen action.                #\n",
    "            # (5) Train our network using target and predicted Q values                   #\n",
    "            # (6) Cumulate the total reward rAll                                          #\n",
    "            # (7) Update observation s                                                    #\n",
    "            # Note: In (1) we need to feed a one-hot vector encoding the state space to   # \n",
    "            #       our network. The environment represents the position in the grid-     #\n",
    "            #       world as a number between 0 and 15, e.g. if s=11, the one-hot vector  #\n",
    "            #       (here is inputs1) should be                                           #\n",
    "            #       [[ 0.  0.  0.  0.  0.  0.  0.  0.  0.  0.  0.  1.  0.  0.  0.  0.]]   #\n",
    "            ###############################################################################\n",
    "            input_s = (np.arange(env.observation_space.n) == s).astype(np.float32)[None, :]\n",
    "            action, Q_s = sess.run([predict, Qout], feed_dict={inputs1: input_s})\n",
    "            \n",
    "            action = env.action_space.sample() if np.random.rand() < e else action[0]\n",
    "            s1, r, d, _ = env.step(action)\n",
    "            \n",
    "            input_s1 = (np.arange(env.observation_space.n) == s1).astype(np.float32)[None, :]\n",
    "            Q1 = sess.run(Qout, feed_dict={inputs1:input_s1})\n",
    "            \n",
    "            Q_s[0, action] = r + y * np.max(Q1)\n",
    "            _, _ = sess.run([updateModel, W], feed_dict={inputs1: input_s, nextQ: Q_s})\n",
    "            \n",
    "            rAll += r\n",
    "            s = s1\n",
    "            ##############################################################################\n",
    "            #                             END OF YOUR CODE                               #\n",
    "            ##############################################################################\n",
    "            \n",
    "            if d == True:\n",
    "                #Reduce chance of random action as we train the model.\n",
    "                jList.append(j)\n",
    "                rList.append(rAll)\n",
    "                break\n",
    "        if len(rList) % 10 == 0:\n",
    "            print(\"Episode\",i,\"reward:\",np.mean(rList[-10:]))\n",
    "print(\"Percent of succesful episodes: \" + str(sum(rList)/num_episodes) + \"%\")"
   ]
  },
  {
   "cell_type": "markdown",
   "metadata": {},
   "source": [
    "### Some statistics on network performance"
   ]
  },
  {
   "cell_type": "markdown",
   "metadata": {},
   "source": [
    "We can see that the network beings to consistly reach the goal around the 750 episode mark."
   ]
  },
  {
   "cell_type": "code",
   "execution_count": 6,
   "metadata": {},
   "outputs": [
    {
     "data": {
      "text/plain": [
       "[<matplotlib.lines.Line2D at 0x7fdf8c56da90>]"
      ]
     },
     "execution_count": 6,
     "metadata": {},
     "output_type": "execute_result"
    },
    {
     "data": {
      "image/png": "[encoded data removed]",
      "text/plain": [
       "<matplotlib.figure.Figure at 0x7fdf95cab908>"
      ]
     },
     "metadata": {},
     "output_type": "display_data"
    }
   ],
   "source": [
    "plt.plot(rList)"
   ]
  },
  {
   "cell_type": "markdown",
   "metadata": {},
   "source": [
    "It also begins to progress through the environment for longer than chance around the 750 mark as well."
   ]
  },
  {
   "cell_type": "code",
   "execution_count": 7,
   "metadata": {},
   "outputs": [
    {
     "data": {
      "text/plain": [
       "[<matplotlib.lines.Line2D at 0x7fdf8c4933c8>]"
      ]
     },
     "execution_count": 7,
     "metadata": {},
     "output_type": "execute_result"
    },
    {
     "data": {
      "image/png": "[encoded data removed]",
      "text/plain": [
       "<matplotlib.figure.Figure at 0x7fdf8c57db38>"
      ]
     },
     "metadata": {},
     "output_type": "display_data"
    }
   ],
   "source": [
    "plt.plot(jList)"
   ]
  },
  {
   "cell_type": "markdown",
   "metadata": {},
   "source": [
    "While the network learns to solve the FrozenLake problem, it turns out it doesn’t do so quite as efficiently as the Q-Table. While neural networks allow for greater flexibility, they do so at the cost of stability when it comes to Q-Learning. There are a number of possible extensions to our simple Q-Network which allow for greater performance and more robust learning. we will be exploring those additions in Exercise 2."
   ]
  },
  {
   "cell_type": "code",
   "execution_count": null,
   "metadata": {
    "collapsed": true
   },
   "outputs": [],
   "source": []
  }
 ],
 "metadata": {
  "anaconda-cloud": {},
  "kernelspec": {
   "display_name": "Python 3",
   "language": "python",
   "name": "python3"
  },
  "language_info": {
   "codemirror_mode": {
    "name": "ipython",
    "version": 3
   },
   "file_extension": ".py",
   "mimetype": "text/x-python",
   "name": "python",
   "nbconvert_exporter": "python",
   "pygments_lexer": "ipython3",
   "version": "3.5.3"
  }
 },
 "nbformat": 4,
 "nbformat_minor": 1
}
